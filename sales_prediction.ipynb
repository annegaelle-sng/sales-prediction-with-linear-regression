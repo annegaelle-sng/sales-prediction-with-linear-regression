{
 "cells": [
  {
   "attachments": {},
   "cell_type": "markdown",
   "metadata": {},
   "source": [
    "# Sales Prediction using Linear Regression\n",
    "\n",
    "\n",
    "Get ready to dive into the exciting world of sales prediction!  In today's fast-paced and highly competitive business world, predicting sales has become an essential aspect for companies to thrive and succeed. In order to keep up with the ever-changing market trends, businesses need to have a sound understanding of their sales patterns and be able to forecast future trends with accuracy. In this Python project, we will be using linear regression to predict sales based on advertisement data. By analyzing the relationship between various advertisements and sales outcomes, we will develop a model that will allow us to accurately predict sales and make informed decisions to drive growth and success.\n",
    "\n",
    "![alt](https://images.unsplash.com/photo-1599803654935-5b9d1c93578c?ixlib=rb-4.0.3&ixid=MnwxMjA3fDB8MHxwaG90by1wYWdlfHx8fGVufDB8fHx8&auto=format&fit=crop&w=2070&q=80)"
   ]
  },
  {
   "cell_type": "code",
   "execution_count": 2,
   "metadata": {},
   "outputs": [],
   "source": [
    "# Library \n",
    "import pandas as pd\n",
    "import seaborn as sns\n",
    "import matplotlib as plt\n",
    "\n",
    "from sklearn.linear_model import LinearRegression\n",
    "from sklearn.model_selection import train_test_split\n",
    "from sklearn.linear_model import LinearRegression\n",
    "from sklearn.metrics import mean_squared_error as mse, mean_absolute_error, r2_score\n",
    "from sklearn import preprocessing\n",
    "from sklearn import metrics\n",
    "import statsmodels.formula.api as smf\n",
    "import statsmodels.api as sm\n",
    "from statsmodels.stats.outliers_influence import variance_inflation_factor\n",
    "\n",
    "import ipywidgets as widgets\n",
    "from ipywidgets import interact\n",
    "from IPython.display import display, HTML"
   ]
  },
  {
   "attachments": {},
   "cell_type": "markdown",
   "metadata": {},
   "source": [
    "#   Marketing and Sales Data"
   ]
  },
  {
   "cell_type": "code",
   "execution_count": 3,
   "metadata": {},
   "outputs": [
    {
     "data": {
      "text/html": [
       "<div>\n",
       "<style scoped>\n",
       "    .dataframe tbody tr th:only-of-type {\n",
       "        vertical-align: middle;\n",
       "    }\n",
       "\n",
       "    .dataframe tbody tr th {\n",
       "        vertical-align: top;\n",
       "    }\n",
       "\n",
       "    .dataframe thead th {\n",
       "        text-align: right;\n",
       "    }\n",
       "</style>\n",
       "<table border=\"1\" class=\"dataframe\">\n",
       "  <thead>\n",
       "    <tr style=\"text-align: right;\">\n",
       "      <th></th>\n",
       "      <th>TV</th>\n",
       "      <th>Radio</th>\n",
       "      <th>Social Media</th>\n",
       "      <th>Influencer</th>\n",
       "      <th>Sales</th>\n",
       "    </tr>\n",
       "  </thead>\n",
       "  <tbody>\n",
       "    <tr>\n",
       "      <th>0</th>\n",
       "      <td>16.0</td>\n",
       "      <td>6.566231</td>\n",
       "      <td>2.907983</td>\n",
       "      <td>Mega</td>\n",
       "      <td>54.732757</td>\n",
       "    </tr>\n",
       "    <tr>\n",
       "      <th>1</th>\n",
       "      <td>13.0</td>\n",
       "      <td>9.237765</td>\n",
       "      <td>2.409567</td>\n",
       "      <td>Mega</td>\n",
       "      <td>46.677897</td>\n",
       "    </tr>\n",
       "    <tr>\n",
       "      <th>2</th>\n",
       "      <td>41.0</td>\n",
       "      <td>15.886446</td>\n",
       "      <td>2.913410</td>\n",
       "      <td>Mega</td>\n",
       "      <td>150.177829</td>\n",
       "    </tr>\n",
       "    <tr>\n",
       "      <th>3</th>\n",
       "      <td>83.0</td>\n",
       "      <td>30.020028</td>\n",
       "      <td>6.922304</td>\n",
       "      <td>Mega</td>\n",
       "      <td>298.246340</td>\n",
       "    </tr>\n",
       "    <tr>\n",
       "      <th>4</th>\n",
       "      <td>15.0</td>\n",
       "      <td>8.437408</td>\n",
       "      <td>1.405998</td>\n",
       "      <td>Micro</td>\n",
       "      <td>56.594181</td>\n",
       "    </tr>\n",
       "  </tbody>\n",
       "</table>\n",
       "</div>"
      ],
      "text/plain": [
       "     TV      Radio  Social Media Influencer       Sales\n",
       "0  16.0   6.566231      2.907983       Mega   54.732757\n",
       "1  13.0   9.237765      2.409567       Mega   46.677897\n",
       "2  41.0  15.886446      2.913410       Mega  150.177829\n",
       "3  83.0  30.020028      6.922304       Mega  298.246340\n",
       "4  15.0   8.437408      1.405998      Micro   56.594181"
      ]
     },
     "execution_count": 3,
     "metadata": {},
     "output_type": "execute_result"
    }
   ],
   "source": [
    "# Import Data\n",
    "ad_data = pd.read_csv('datasets/Dummy Data HSS.csv')\n",
    "ad_data.head(5)"
   ]
  },
  {
   "attachments": {},
   "cell_type": "markdown",
   "metadata": {},
   "source": [
    "In this project we use fictitious data found on [Kaggle](https://www.kaggle.com/datasets/harrimansaragih/dummy-advertising-and-sales-data). What our data looks like: \n",
    "\n",
    "<ul>\n",
    "    <li> <code> TV </code> - TV promotion budget (in million)\n",
    "    <li> <code> Radio </code> - Radio promotion budget (in million)\n",
    "    <li> <code> Social Media </code> - Social Media promotion budget (in million)\n",
    "    <li> <code> Influencer </code> - Whether the promotion collaborate with Mega, Macro, Nano, Micro influencer\n",
    "    <li> <code> Sales </code> - Sales (in million)\n",
    "</ul>"
   ]
  },
  {
   "attachments": {},
   "cell_type": "markdown",
   "metadata": {},
   "source": [
    "# Data cleaning"
   ]
  },
  {
   "cell_type": "code",
   "execution_count": 4,
   "metadata": {},
   "outputs": [],
   "source": [
    "#rearrange header\n",
    "ad_data.columns = ad_data.columns.str.lower()\n",
    "ad_data.columns = ad_data.columns.str.replace(' ','_')"
   ]
  },
  {
   "cell_type": "code",
   "execution_count": 5,
   "metadata": {},
   "outputs": [
    {
     "name": "stdout",
     "output_type": "stream",
     "text": [
      "<class 'pandas.core.frame.DataFrame'>\n",
      "RangeIndex: 4572 entries, 0 to 4571\n",
      "Data columns (total 5 columns):\n",
      " #   Column        Non-Null Count  Dtype  \n",
      "---  ------        --------------  -----  \n",
      " 0   tv            4562 non-null   float64\n",
      " 1   radio         4568 non-null   float64\n",
      " 2   social_media  4566 non-null   float64\n",
      " 3   influencer    4572 non-null   object \n",
      " 4   sales         4566 non-null   float64\n",
      "dtypes: float64(4), object(1)\n",
      "memory usage: 178.7+ KB\n"
     ]
    }
   ],
   "source": [
    "ad_data.info()"
   ]
  },
  {
   "cell_type": "code",
   "execution_count": 6,
   "metadata": {},
   "outputs": [
    {
     "data": {
      "text/html": [
       "<div>\n",
       "<style scoped>\n",
       "    .dataframe tbody tr th:only-of-type {\n",
       "        vertical-align: middle;\n",
       "    }\n",
       "\n",
       "    .dataframe tbody tr th {\n",
       "        vertical-align: top;\n",
       "    }\n",
       "\n",
       "    .dataframe thead th {\n",
       "        text-align: right;\n",
       "    }\n",
       "</style>\n",
       "<table border=\"1\" class=\"dataframe\">\n",
       "  <thead>\n",
       "    <tr style=\"text-align: right;\">\n",
       "      <th></th>\n",
       "      <th>tv</th>\n",
       "      <th>radio</th>\n",
       "      <th>social_media</th>\n",
       "      <th>sales</th>\n",
       "    </tr>\n",
       "  </thead>\n",
       "  <tbody>\n",
       "    <tr>\n",
       "      <th>count</th>\n",
       "      <td>4562.000000</td>\n",
       "      <td>4568.000000</td>\n",
       "      <td>4566.000000</td>\n",
       "      <td>4566.000000</td>\n",
       "    </tr>\n",
       "    <tr>\n",
       "      <th>mean</th>\n",
       "      <td>54.066857</td>\n",
       "      <td>18.160356</td>\n",
       "      <td>3.323956</td>\n",
       "      <td>192.466602</td>\n",
       "    </tr>\n",
       "    <tr>\n",
       "      <th>std</th>\n",
       "      <td>26.125054</td>\n",
       "      <td>9.676958</td>\n",
       "      <td>2.212670</td>\n",
       "      <td>93.133092</td>\n",
       "    </tr>\n",
       "    <tr>\n",
       "      <th>min</th>\n",
       "      <td>10.000000</td>\n",
       "      <td>0.000684</td>\n",
       "      <td>0.000031</td>\n",
       "      <td>31.199409</td>\n",
       "    </tr>\n",
       "    <tr>\n",
       "      <th>25%</th>\n",
       "      <td>32.000000</td>\n",
       "      <td>10.525957</td>\n",
       "      <td>1.527849</td>\n",
       "      <td>112.322882</td>\n",
       "    </tr>\n",
       "    <tr>\n",
       "      <th>50%</th>\n",
       "      <td>53.000000</td>\n",
       "      <td>17.859513</td>\n",
       "      <td>3.055565</td>\n",
       "      <td>189.231172</td>\n",
       "    </tr>\n",
       "    <tr>\n",
       "      <th>75%</th>\n",
       "      <td>77.000000</td>\n",
       "      <td>25.649730</td>\n",
       "      <td>4.807558</td>\n",
       "      <td>272.507922</td>\n",
       "    </tr>\n",
       "    <tr>\n",
       "      <th>max</th>\n",
       "      <td>100.000000</td>\n",
       "      <td>48.871161</td>\n",
       "      <td>13.981662</td>\n",
       "      <td>364.079751</td>\n",
       "    </tr>\n",
       "  </tbody>\n",
       "</table>\n",
       "</div>"
      ],
      "text/plain": [
       "                tv        radio  social_media        sales\n",
       "count  4562.000000  4568.000000   4566.000000  4566.000000\n",
       "mean     54.066857    18.160356      3.323956   192.466602\n",
       "std      26.125054     9.676958      2.212670    93.133092\n",
       "min      10.000000     0.000684      0.000031    31.199409\n",
       "25%      32.000000    10.525957      1.527849   112.322882\n",
       "50%      53.000000    17.859513      3.055565   189.231172\n",
       "75%      77.000000    25.649730      4.807558   272.507922\n",
       "max     100.000000    48.871161     13.981662   364.079751"
      ]
     },
     "execution_count": 6,
     "metadata": {},
     "output_type": "execute_result"
    }
   ],
   "source": [
    "ad_data.describe()"
   ]
  },
  {
   "cell_type": "code",
   "execution_count": 7,
   "metadata": {},
   "outputs": [
    {
     "data": {
      "text/plain": [
       "tv              10\n",
       "radio            4\n",
       "social_media     6\n",
       "influencer       0\n",
       "sales            6\n",
       "dtype: int64"
      ]
     },
     "execution_count": 7,
     "metadata": {},
     "output_type": "execute_result"
    }
   ],
   "source": [
    "ad_data.isnull().sum()"
   ]
  },
  {
   "cell_type": "code",
   "execution_count": 8,
   "metadata": {},
   "outputs": [
    {
     "data": {
      "text/plain": [
       "tv              0\n",
       "radio           0\n",
       "social_media    0\n",
       "influencer      0\n",
       "sales           0\n",
       "dtype: int64"
      ]
     },
     "execution_count": 8,
     "metadata": {},
     "output_type": "execute_result"
    }
   ],
   "source": [
    "ad_data = ad_data.dropna()\n",
    "ad_data.isnull().sum()"
   ]
  },
  {
   "attachments": {},
   "cell_type": "markdown",
   "metadata": {},
   "source": [
    "# EDA"
   ]
  },
  {
   "attachments": {},
   "cell_type": "markdown",
   "metadata": {},
   "source": [
    "## Sales and Budget"
   ]
  },
  {
   "cell_type": "code",
   "execution_count": 9,
   "metadata": {},
   "outputs": [
    {
     "data": {
      "text/plain": [
       "<AxesSubplot:ylabel='Total Budget (in Million)'>"
      ]
     },
     "execution_count": 9,
     "metadata": {},
     "output_type": "execute_result"
    },
    {
     "data": {
      "image/png": "[encoded data removed]",
      "text/plain": [
       "<Figure size 432x288 with 1 Axes>"
      ]
     },
     "metadata": {},
     "output_type": "display_data"
    }
   ],
   "source": [
    "sales_df= ad_data.melt(\n",
    "    id_vars=['sales'], \n",
    "    value_vars=['tv', 'radio', 'social_media'], \n",
    "    value_name='budget',\n",
    "    var_name='ad_type'\n",
    ")\n",
    "\n",
    "sales_df = sales_df.groupby('ad_type')['budget'].sum().sort_values(ascending=False)\n",
    "\n",
    "plt.style.use('fivethirtyeight')\n",
    "sales_df.plot(kind='bar', xlabel='', ylabel='Total Budget (in Million)')\n"
   ]
  },
  {
   "attachments": {},
   "cell_type": "markdown",
   "metadata": {},
   "source": [
    "This plot helped us uncovered a dynamic trend. The companies are investing heavily in TV advertising, with it being their top choice for allocating their budget. Radio advertising comes in as a close second, followed by a more modest investment in social media."
   ]
  },
  {
   "cell_type": "code",
   "execution_count": 10,
   "metadata": {},
   "outputs": [
    {
     "data": {
      "text/plain": [
       "<seaborn.axisgrid.PairGrid at 0x7f92036c2c10>"
      ]
     },
     "execution_count": 10,
     "metadata": {},
     "output_type": "execute_result"
    },
    {
     "data": {
      "image/png": "[encoded data removed]",
      "text/plain": [
       "<Figure size 720x720 with 14 Axes>"
      ]
     },
     "metadata": {},
     "output_type": "display_data"
    }
   ],
   "source": [
    "sns.pairplot(ad_data, \n",
    "            kind='reg',\n",
    "            markers=\"+\",\n",
    "            diag_kind=\"kde\",\n",
    "            corner=True, \n",
    "            diag_kws= {'color': '#82ad32'},\n",
    "            plot_kws={'line_kws':{'color':'#000000'}, \n",
    "                           'scatter_kws': {'alpha': 0.5, \n",
    "                                           'color': '#82ad32'}})"
   ]
  },
  {
   "cell_type": "code",
   "execution_count": 11,
   "metadata": {},
   "outputs": [
    {
     "data": {
      "text/plain": [
       "<AxesSubplot:>"
      ]
     },
     "execution_count": 11,
     "metadata": {},
     "output_type": "execute_result"
    },
    {
     "data": {
      "image/png": "[encoded data removed]",
      "text/plain": [
       "<Figure size 576x720 with 2 Axes>"
      ]
     },
     "metadata": {},
     "output_type": "display_data"
    }
   ],
   "source": [
    "plt.rcParams['figure.figsize'] = [8,10]\n",
    "sns.heatmap(ad_data.corr()[['sales']]\\\n",
    "    .sort_values(by='sales', ascending= False),annot=True)"
   ]
  },
  {
   "attachments": {},
   "cell_type": "markdown",
   "metadata": {},
   "source": [
    "Our observation has uncovered two thrilling trends. The companies are investing in social media, but they're doing so with a more strategic approach by allocating only a small portion of their budget towards it. And the real game changer? A strong correlation has been found between sales and both TV and radio advertising. While the relationship with social media is still unfolding, this is a fantastic opportunity to dive deeper and unlock its full potential!"
   ]
  },
  {
   "attachments": {},
   "cell_type": "markdown",
   "metadata": {},
   "source": [
    "## The Influencer\n",
    "\n",
    "Influencer marketing has become an increasingly popular strategy for businesses to reach their target audience. In this space, influencers can be categorized based on their reach and engagement levels. Here's a breakdown of the different categories of influencers:\n",
    "\n",
    "- **Nano influencer**: Nano influencers are individuals with a small following, typically less than 1000 followers. They often have a strong connection with their followers and high engagement rates.\n",
    "- **Micro influencer**: Micro influencers have a slightly larger following, usually between 1000-10,000 followers. They tend to be experts in their niche and are highly regarded by their followers.\n",
    "- **Macro influencer**: Macro influencers have a following of 10,000-100,000 followers and have significant reach in their niche. They have a strong online presence and a high level of engagement.\n",
    "- **Mega influencer**: Mega influencers are individuals with a following of over 100,000 followers and have the largest reach of all influencer categories. They are typically celebrities or public figures and have a wide reach beyond their niche.\n",
    "In summary, the difference between nano, micro, macro, and mega influencers is their reach and engagement levels. Nano influencers have a small but highly engaged following, while mega influencers have a massive reach but lower engagement rates.\n",
    "\n",
    "How companies are investing in this new advertising opportunity ? "
   ]
  },
  {
   "cell_type": "code",
   "execution_count": 12,
   "metadata": {},
   "outputs": [
    {
     "data": {
      "text/plain": [
       "<AxesSubplot:title={'center':'Social Media Allocation per Influencer'}, ylabel='Budget (in Million)'>"
      ]
     },
     "execution_count": 12,
     "metadata": {},
     "output_type": "execute_result"
    },
    {
     "data": {
      "image/png": "[encoded data removed]",
      "text/plain": [
       "<Figure size 576x720 with 1 Axes>"
      ]
     },
     "metadata": {},
     "output_type": "display_data"
    }
   ],
   "source": [
    "plt.style.use('fivethirtyeight')\n",
    "influencer_df = ad_data.groupby('influencer')['social_media'].sum().sort_values(ascending=False)\n",
    "influencer_df.plot(kind='bar', xlabel='', ylabel='Budget (in Million)', title='Social Media Allocation per Influencer')"
   ]
  },
  {
   "attachments": {},
   "cell_type": "markdown",
   "metadata": {},
   "source": [
    "Companies may favor mega influencers, but they are also putting resources towards other types of influencers, making the allocation between them quite similar. This is a unique opportunity to uncover the impact of different influencer types on sales and determine which ones bring the best return on investment."
   ]
  },
  {
   "attachments": {},
   "cell_type": "markdown",
   "metadata": {},
   "source": [
    "# Modelling"
   ]
  },
  {
   "cell_type": "code",
   "execution_count": 13,
   "metadata": {},
   "outputs": [],
   "source": [
    "# # turn the influencer column to dummies\n",
    "# influencer_mapping = {'Nano':0,'Micro':1,'Macro':2, 'Mega':3,}\n",
    "# ad_data[\"influencer_encoded\"] = ad_data[\"influencer\"].map(influencer_mapping)\n",
    "# ad_data.head()"
   ]
  },
  {
   "cell_type": "code",
   "execution_count": 14,
   "metadata": {},
   "outputs": [
    {
     "data": {
      "text/html": [
       "<div>\n",
       "<style scoped>\n",
       "    .dataframe tbody tr th:only-of-type {\n",
       "        vertical-align: middle;\n",
       "    }\n",
       "\n",
       "    .dataframe tbody tr th {\n",
       "        vertical-align: top;\n",
       "    }\n",
       "\n",
       "    .dataframe thead th {\n",
       "        text-align: right;\n",
       "    }\n",
       "</style>\n",
       "<table border=\"1\" class=\"dataframe\">\n",
       "  <thead>\n",
       "    <tr style=\"text-align: right;\">\n",
       "      <th></th>\n",
       "      <th>tv</th>\n",
       "      <th>radio</th>\n",
       "      <th>social_media</th>\n",
       "      <th>influencer_Mega</th>\n",
       "      <th>influencer_Micro</th>\n",
       "      <th>influencer_Nano</th>\n",
       "      <th>sales</th>\n",
       "    </tr>\n",
       "  </thead>\n",
       "  <tbody>\n",
       "    <tr>\n",
       "      <th>0</th>\n",
       "      <td>16.0</td>\n",
       "      <td>6.566231</td>\n",
       "      <td>2.907983</td>\n",
       "      <td>1</td>\n",
       "      <td>0</td>\n",
       "      <td>0</td>\n",
       "      <td>54.732757</td>\n",
       "    </tr>\n",
       "    <tr>\n",
       "      <th>1</th>\n",
       "      <td>13.0</td>\n",
       "      <td>9.237765</td>\n",
       "      <td>2.409567</td>\n",
       "      <td>1</td>\n",
       "      <td>0</td>\n",
       "      <td>0</td>\n",
       "      <td>46.677897</td>\n",
       "    </tr>\n",
       "    <tr>\n",
       "      <th>2</th>\n",
       "      <td>41.0</td>\n",
       "      <td>15.886446</td>\n",
       "      <td>2.913410</td>\n",
       "      <td>1</td>\n",
       "      <td>0</td>\n",
       "      <td>0</td>\n",
       "      <td>150.177829</td>\n",
       "    </tr>\n",
       "    <tr>\n",
       "      <th>3</th>\n",
       "      <td>83.0</td>\n",
       "      <td>30.020028</td>\n",
       "      <td>6.922304</td>\n",
       "      <td>1</td>\n",
       "      <td>0</td>\n",
       "      <td>0</td>\n",
       "      <td>298.246340</td>\n",
       "    </tr>\n",
       "    <tr>\n",
       "      <th>4</th>\n",
       "      <td>15.0</td>\n",
       "      <td>8.437408</td>\n",
       "      <td>1.405998</td>\n",
       "      <td>0</td>\n",
       "      <td>1</td>\n",
       "      <td>0</td>\n",
       "      <td>56.594181</td>\n",
       "    </tr>\n",
       "    <tr>\n",
       "      <th>...</th>\n",
       "      <td>...</td>\n",
       "      <td>...</td>\n",
       "      <td>...</td>\n",
       "      <td>...</td>\n",
       "      <td>...</td>\n",
       "      <td>...</td>\n",
       "      <td>...</td>\n",
       "    </tr>\n",
       "    <tr>\n",
       "      <th>4567</th>\n",
       "      <td>26.0</td>\n",
       "      <td>4.472360</td>\n",
       "      <td>0.717090</td>\n",
       "      <td>0</td>\n",
       "      <td>1</td>\n",
       "      <td>0</td>\n",
       "      <td>94.685866</td>\n",
       "    </tr>\n",
       "    <tr>\n",
       "      <th>4568</th>\n",
       "      <td>71.0</td>\n",
       "      <td>20.610685</td>\n",
       "      <td>6.545573</td>\n",
       "      <td>0</td>\n",
       "      <td>0</td>\n",
       "      <td>1</td>\n",
       "      <td>249.101915</td>\n",
       "    </tr>\n",
       "    <tr>\n",
       "      <th>4569</th>\n",
       "      <td>44.0</td>\n",
       "      <td>19.800072</td>\n",
       "      <td>5.096192</td>\n",
       "      <td>0</td>\n",
       "      <td>1</td>\n",
       "      <td>0</td>\n",
       "      <td>163.631457</td>\n",
       "    </tr>\n",
       "    <tr>\n",
       "      <th>4570</th>\n",
       "      <td>71.0</td>\n",
       "      <td>17.534640</td>\n",
       "      <td>1.940873</td>\n",
       "      <td>0</td>\n",
       "      <td>0</td>\n",
       "      <td>0</td>\n",
       "      <td>253.610411</td>\n",
       "    </tr>\n",
       "    <tr>\n",
       "      <th>4571</th>\n",
       "      <td>42.0</td>\n",
       "      <td>15.966688</td>\n",
       "      <td>5.046548</td>\n",
       "      <td>0</td>\n",
       "      <td>1</td>\n",
       "      <td>0</td>\n",
       "      <td>148.202414</td>\n",
       "    </tr>\n",
       "  </tbody>\n",
       "</table>\n",
       "<p>4546 rows × 7 columns</p>\n",
       "</div>"
      ],
      "text/plain": [
       "        tv      radio  social_media  influencer_Mega  influencer_Micro  \\\n",
       "0     16.0   6.566231      2.907983                1                 0   \n",
       "1     13.0   9.237765      2.409567                1                 0   \n",
       "2     41.0  15.886446      2.913410                1                 0   \n",
       "3     83.0  30.020028      6.922304                1                 0   \n",
       "4     15.0   8.437408      1.405998                0                 1   \n",
       "...    ...        ...           ...              ...               ...   \n",
       "4567  26.0   4.472360      0.717090                0                 1   \n",
       "4568  71.0  20.610685      6.545573                0                 0   \n",
       "4569  44.0  19.800072      5.096192                0                 1   \n",
       "4570  71.0  17.534640      1.940873                0                 0   \n",
       "4571  42.0  15.966688      5.046548                0                 1   \n",
       "\n",
       "      influencer_Nano       sales  \n",
       "0                   0   54.732757  \n",
       "1                   0   46.677897  \n",
       "2                   0  150.177829  \n",
       "3                   0  298.246340  \n",
       "4                   0   56.594181  \n",
       "...               ...         ...  \n",
       "4567                0   94.685866  \n",
       "4568                1  249.101915  \n",
       "4569                0  163.631457  \n",
       "4570                0  253.610411  \n",
       "4571                0  148.202414  \n",
       "\n",
       "[4546 rows x 7 columns]"
      ]
     },
     "execution_count": 14,
     "metadata": {},
     "output_type": "execute_result"
    }
   ],
   "source": [
    "ad_data = pd.get_dummies(ad_data, drop_first = True)\n",
    "ad_data = ad_data[['tv', 'radio', 'social_media', \n",
    "       'influencer_Mega', 'influencer_Micro', 'influencer_Nano', 'sales']]\n",
    "ad_data\n"
   ]
  },
  {
   "cell_type": "code",
   "execution_count": 15,
   "metadata": {},
   "outputs": [],
   "source": [
    "x = ad_data.iloc[:,0:-1]\n",
    "#x = ad_data[[\"tv\", \"radio\", \"social_media\"]]\n",
    "y = ad_data.iloc[:,-1:]\n",
    "X_train, X_test, y_train, y_test = train_test_split(x, y, random_state = 1)"
   ]
  },
  {
   "attachments": {},
   "cell_type": "markdown",
   "metadata": {},
   "source": [
    "For this model we will take in consideration all variable at first. "
   ]
  },
  {
   "attachments": {},
   "cell_type": "markdown",
   "metadata": {},
   "source": [
    "## With Scikit-Learn"
   ]
  },
  {
   "cell_type": "code",
   "execution_count": 16,
   "metadata": {},
   "outputs": [
    {
     "name": "stdout",
     "output_type": "stream",
     "text": [
      "[-0.13522546] [[ 3.56581657 -0.01376975  0.01177413  0.05319451  0.03327864 -0.15011308]] 0.999002907890483\n"
     ]
    }
   ],
   "source": [
    "#fit the data\n",
    "LR = LinearRegression()\n",
    "LR.fit(X_train,y_train)\n",
    "print(LR.intercept_, LR.coef_, LR.score(X_train, y_train))"
   ]
  },
  {
   "attachments": {},
   "cell_type": "markdown",
   "metadata": {},
   "source": [
    "Using this output, we can write the equation for the fitted regression model:\n",
    "\n",
    "$$y = -0.21 + 3.56x_{1} – 0.004x_{2} + 0.02!x_{3} + 0.055x_{4}$$\n",
    "\n",
    "- For every 1 increase in TV budget, the sales will increase by 3.5\n",
    "- For every 1 increase in Social Media, the sales will increase only 0.06\n",
    "- If we do not spend any promotional budget, our sales is predicted to decrease by - 0.21 units\n",
    "\n",
    "The R2 value of the model is a staggering 0.99, meaning that 99% of the variation in the response variable can be attributed to the two predictor variables in the model. This is a clear indication that our model is performing exceptionally well and is a reliable tool for sales prediction."
   ]
  },
  {
   "attachments": {},
   "cell_type": "markdown",
   "metadata": {},
   "source": [
    "## With StatsModels"
   ]
  },
  {
   "cell_type": "code",
   "execution_count": 17,
   "metadata": {},
   "outputs": [
    {
     "name": "stdout",
     "output_type": "stream",
     "text": [
      "                            OLS Regression Results                            \n",
      "==============================================================================\n",
      "Dep. Variable:                  sales   R-squared:                       0.999\n",
      "Model:                            OLS   Adj. R-squared:                  0.999\n",
      "Method:                 Least Squares   F-statistic:                 7.521e+05\n",
      "Date:                Sat, 11 Feb 2023   Prob (F-statistic):               0.00\n",
      "Time:                        10:58:59   Log-Likelihood:                -11366.\n",
      "No. Observations:                4546   AIC:                         2.275e+04\n",
      "Df Residuals:                    4539   BIC:                         2.279e+04\n",
      "Df Model:                           6                                         \n",
      "Covariance Type:            nonrobust                                         \n",
      "====================================================================================\n",
      "                       coef    std err          t      P>|t|      [0.025      0.975]\n",
      "------------------------------------------------------------------------------------\n",
      "const               -0.1033      0.130     -0.797      0.426      -0.358       0.151\n",
      "tv                   3.5626      0.003   1050.472      0.000       3.556       3.569\n",
      "radio               -0.0039      0.010     -0.399      0.690      -0.023       0.015\n",
      "social_media         0.0045      0.025      0.179      0.858      -0.044       0.053\n",
      "influencer_Mega      0.0116      0.124      0.094      0.926      -0.232       0.255\n",
      "influencer_Micro    -0.0569      0.124     -0.458      0.647      -0.300       0.187\n",
      "influencer_Nano     -0.0739      0.125     -0.593      0.553      -0.318       0.170\n",
      "==============================================================================\n",
      "Omnibus:                        0.067   Durbin-Watson:                   1.998\n",
      "Prob(Omnibus):                  0.967   Jarque-Bera (JB):                0.043\n",
      "Skew:                          -0.001   Prob(JB):                        0.979\n",
      "Kurtosis:                       3.015   Cond. No.                         288.\n",
      "==============================================================================\n",
      "\n",
      "Notes:\n",
      "[1] Standard Errors assume that the covariance matrix of the errors is correctly specified.\n"
     ]
    }
   ],
   "source": [
    "x = sm.add_constant(x)\n",
    "LR2= sm.OLS(y, x).fit()\n",
    "print(LR2.summary())"
   ]
  },
  {
   "cell_type": "code",
   "execution_count": 18,
   "metadata": {},
   "outputs": [
    {
     "name": "stdout",
     "output_type": "stream",
     "text": [
      "const               0.425763\n",
      "tv                  0.000000\n",
      "radio               0.689654\n",
      "social_media        0.857718\n",
      "influencer_Mega     0.925507\n",
      "influencer_Micro    0.646985\n",
      "influencer_Nano     0.552990\n",
      "dtype: float64\n"
     ]
    }
   ],
   "source": [
    "print(LR2.pvalues)"
   ]
  },
  {
   "cell_type": "code",
   "execution_count": 19,
   "metadata": {},
   "outputs": [
    {
     "data": {
      "text/html": [
       "<div>\n",
       "<style scoped>\n",
       "    .dataframe tbody tr th:only-of-type {\n",
       "        vertical-align: middle;\n",
       "    }\n",
       "\n",
       "    .dataframe tbody tr th {\n",
       "        vertical-align: top;\n",
       "    }\n",
       "\n",
       "    .dataframe thead th {\n",
       "        text-align: right;\n",
       "    }\n",
       "</style>\n",
       "<table border=\"1\" class=\"dataframe\">\n",
       "  <thead>\n",
       "    <tr style=\"text-align: right;\">\n",
       "      <th></th>\n",
       "      <th>feature</th>\n",
       "      <th>VIF</th>\n",
       "    </tr>\n",
       "  </thead>\n",
       "  <tbody>\n",
       "    <tr>\n",
       "      <th>0</th>\n",
       "      <td>const</td>\n",
       "      <td>8.782845</td>\n",
       "    </tr>\n",
       "    <tr>\n",
       "      <th>1</th>\n",
       "      <td>tv</td>\n",
       "      <td>4.091850</td>\n",
       "    </tr>\n",
       "    <tr>\n",
       "      <th>2</th>\n",
       "      <td>radio</td>\n",
       "      <td>4.667926</td>\n",
       "    </tr>\n",
       "    <tr>\n",
       "      <th>3</th>\n",
       "      <td>social_media</td>\n",
       "      <td>1.582523</td>\n",
       "    </tr>\n",
       "    <tr>\n",
       "      <th>4</th>\n",
       "      <td>influencer_Mega</td>\n",
       "      <td>1.521109</td>\n",
       "    </tr>\n",
       "    <tr>\n",
       "      <th>5</th>\n",
       "      <td>influencer_Micro</td>\n",
       "      <td>1.520396</td>\n",
       "    </tr>\n",
       "    <tr>\n",
       "      <th>6</th>\n",
       "      <td>influencer_Nano</td>\n",
       "      <td>1.516521</td>\n",
       "    </tr>\n",
       "  </tbody>\n",
       "</table>\n",
       "</div>"
      ],
      "text/plain": [
       "            feature       VIF\n",
       "0             const  8.782845\n",
       "1                tv  4.091850\n",
       "2             radio  4.667926\n",
       "3      social_media  1.582523\n",
       "4   influencer_Mega  1.521109\n",
       "5  influencer_Micro  1.520396\n",
       "6   influencer_Nano  1.516521"
      ]
     },
     "execution_count": 19,
     "metadata": {},
     "output_type": "execute_result"
    }
   ],
   "source": [
    "# VIF dataframe\n",
    "vif_data = pd.DataFrame()\n",
    "vif_data[\"feature\"] = x.columns\n",
    "  \n",
    "# calculating VIF for each feature\n",
    "vif_data[\"VIF\"] = [variance_inflation_factor(x.values, i)\n",
    "                          for i in range(len(x.columns))]\n",
    "vif_data"
   ]
  },
  {
   "attachments": {},
   "cell_type": "markdown",
   "metadata": {},
   "source": [
    "- Without surprise we fall back on the former results : same R-squared and same regression coefficient.\n",
    "- The only variable with a significant effect on sales here is <code>tv</code>. Indeed its p-value is below the 0.01 significance level.\n",
    "- <code>social_media</code> is not at all significant, there is 85% of chance that this variable has no effect. \n",
    "- The F statistic has a very low p-value. We can say that the model fit is statistically significant\n",
    "- The model is quite stable, indeed by studying collinearities the variance inflation factor of all variables remains below 10. \n",
    "\n",
    "Let's try another model, without social media, as it has no significant effect on our explanatory variable. "
   ]
  },
  {
   "cell_type": "code",
   "execution_count": 20,
   "metadata": {},
   "outputs": [
    {
     "name": "stdout",
     "output_type": "stream",
     "text": [
      "                                 OLS Regression Results                                \n",
      "=======================================================================================\n",
      "Dep. Variable:                  sales   R-squared (uncentered):                   1.000\n",
      "Model:                            OLS   Adj. R-squared (uncentered):              1.000\n",
      "Method:                 Least Squares   F-statistic:                          5.964e+06\n",
      "Date:                Sat, 11 Feb 2023   Prob (F-statistic):                        0.00\n",
      "Time:                        10:58:59   Log-Likelihood:                         -11366.\n",
      "No. Observations:                4546   AIC:                                  2.274e+04\n",
      "Df Residuals:                    4542   BIC:                                  2.277e+04\n",
      "Df Model:                           4                                                  \n",
      "Covariance Type:            nonrobust                                                  \n",
      "====================================================================================\n",
      "                       coef    std err          t      P>|t|      [0.025      0.975]\n",
      "------------------------------------------------------------------------------------\n",
      "tv                   3.5615      0.003   1123.379      0.000       3.555       3.568\n",
      "radio               -0.0038      0.009     -0.411      0.681      -0.022       0.014\n",
      "influencer_Micro    -0.0932      0.101     -0.924      0.355      -0.291       0.105\n",
      "influencer_Nano     -0.1101      0.101     -1.087      0.277      -0.309       0.088\n",
      "==============================================================================\n",
      "Omnibus:                        0.076   Durbin-Watson:                   1.998\n",
      "Prob(Omnibus):                  0.963   Jarque-Bera (JB):                0.050\n",
      "Skew:                          -0.001   Prob(JB):                        0.975\n",
      "Kurtosis:                       3.016   Cond. No.                         164.\n",
      "==============================================================================\n",
      "\n",
      "Notes:\n",
      "[1] R² is computed without centering (uncentered) since the model does not contain a constant.\n",
      "[2] Standard Errors assume that the covariance matrix of the errors is correctly specified.\n"
     ]
    }
   ],
   "source": [
    "x2 = ad_data[[\"tv\", \"radio\", \"influencer_Micro\", \"influencer_Nano\"]]\n",
    "LR3= sm.OLS(y, x2).fit()\n",
    "print(LR3.summary())"
   ]
  },
  {
   "cell_type": "code",
   "execution_count": 21,
   "metadata": {},
   "outputs": [
    {
     "data": {
      "text/html": [
       "<div>\n",
       "<style scoped>\n",
       "    .dataframe tbody tr th:only-of-type {\n",
       "        vertical-align: middle;\n",
       "    }\n",
       "\n",
       "    .dataframe tbody tr th {\n",
       "        vertical-align: top;\n",
       "    }\n",
       "\n",
       "    .dataframe thead th {\n",
       "        text-align: right;\n",
       "    }\n",
       "</style>\n",
       "<table border=\"1\" class=\"dataframe\">\n",
       "  <thead>\n",
       "    <tr style=\"text-align: right;\">\n",
       "      <th></th>\n",
       "      <th>feature</th>\n",
       "      <th>VIF</th>\n",
       "    </tr>\n",
       "  </thead>\n",
       "  <tbody>\n",
       "    <tr>\n",
       "      <th>0</th>\n",
       "      <td>tv</td>\n",
       "      <td>18.925617</td>\n",
       "    </tr>\n",
       "    <tr>\n",
       "      <th>1</th>\n",
       "      <td>radio</td>\n",
       "      <td>18.461617</td>\n",
       "    </tr>\n",
       "    <tr>\n",
       "      <th>2</th>\n",
       "      <td>influencer_Micro</td>\n",
       "      <td>1.342230</td>\n",
       "    </tr>\n",
       "    <tr>\n",
       "      <th>3</th>\n",
       "      <td>influencer_Nano</td>\n",
       "      <td>1.337410</td>\n",
       "    </tr>\n",
       "  </tbody>\n",
       "</table>\n",
       "</div>"
      ],
      "text/plain": [
       "            feature        VIF\n",
       "0                tv  18.925617\n",
       "1             radio  18.461617\n",
       "2  influencer_Micro   1.342230\n",
       "3   influencer_Nano   1.337410"
      ]
     },
     "execution_count": 21,
     "metadata": {},
     "output_type": "execute_result"
    }
   ],
   "source": [
    "# VIF dataframe\n",
    "vif_data = pd.DataFrame()\n",
    "vif_data[\"feature\"] = x2.columns\n",
    "  \n",
    "# calculating VIF for each feature\n",
    "vif_data[\"VIF\"] = [variance_inflation_factor(x2.values, i)\n",
    "                          for i in range(len(x2.columns))]\n",
    "vif_data"
   ]
  },
  {
   "cell_type": "markdown",
   "metadata": {},
   "source": [
    "Our model has achieved performance results on par with a previous model. However, after careful consideration, we have decided to stick with the first model due to its stability. The latter model faced a significant challenge with collinearity between variables, making it less reliable for predictions. Our first model stands strong and is the best choice for accurate sales predictions."
   ]
  },
  {
   "attachments": {},
   "cell_type": "markdown",
   "metadata": {},
   "source": [
    "# Evaluation Matrics"
   ]
  },
  {
   "cell_type": "code",
   "execution_count": 22,
   "metadata": {},
   "outputs": [
    {
     "name": "stdout",
     "output_type": "stream",
     "text": [
      "R-Squared value : 99.9 %\n",
      "Mean Squared Error: 2.4\n",
      "Mean Absolute Error: 8.91\n"
     ]
    }
   ],
   "source": [
    "y_pred = LR.predict(X_test) # we UPDATE the Y_pred here, be careful\n",
    "\n",
    "a = round(r2_score(y_test, y_pred)*100,2)\n",
    "b = round(mean_absolute_error(y_test, y_pred),2)\n",
    "c = round(mse(y_test, y_pred),2)\n",
    "          \n",
    "print(\"R-Squared value :\", a, \"%\")\n",
    "print(\"Mean Squared Error:\", b)\n",
    "print(\"Mean Absolute Error:\", c)"
   ]
  },
  {
   "cell_type": "markdown",
   "metadata": {},
   "source": [
    "# Deployement "
   ]
  },
  {
   "cell_type": "code",
   "execution_count": 88,
   "metadata": {},
   "outputs": [
    {
     "data": {
      "text/plain": [
       "['_model_module',\n",
       " '_model_module_version',\n",
       " '_model_name',\n",
       " '_view_count',\n",
       " '_view_module',\n",
       " '_view_module_version',\n",
       " '_view_name',\n",
       " 'button_width',\n",
       " 'description_width',\n",
       " 'font_weight']"
      ]
     },
     "execution_count": 88,
     "metadata": {},
     "output_type": "execute_result"
    }
   ],
   "source": [
    "desc = widgets.HTML(\n",
    "    value=\"<p style='color: grey' > Adjust the sliders to discover the effectiveness of your campaign.\\\n",
    "         <br> (Numbers are express in Millions Dollars.)</p>\",\n",
    "    placeholder='',\n",
    "    description='',\n",
    ")\n",
    "\n",
    "w = widgets.ToggleButtons(\n",
    "    options=['Mega', 'Micro', 'Nano'],\n",
    "    description='Influencer:',\n",
    "    disabled=False,\n",
    "    button_style='info',\n",
    "    tooltips=['Description of slow', 'Description of regular', 'Description of fast'],\n",
    "    value = 'Micro'\n",
    ")\n",
    "\n",
    "desc.style.description_width = '0'\n",
    "w.style.keys"
   ]
  },
  {
   "cell_type": "code",
   "execution_count": 89,
   "metadata": {},
   "outputs": [
    {
     "data": {
      "application/vnd.jupyter.widget-view+json": {
       "model_id": "ff51861a95ef4313b37189e7f6895e17",
       "version_major": 2,
       "version_minor": 0
      },
      "text/plain": [
       "interactive(children=(HTML(value=\"<p style='color: grey' > Adjust the sliders to discover the effectiveness of…"
      ]
     },
     "metadata": {},
     "output_type": "display_data"
    }
   ],
   "source": [
    "@interact\n",
    "def prediction( text = desc,\n",
    "            influencer = w, \n",
    "            Tv=(0,1000, 10), \n",
    "            Radio=(0, 1000, 10), \n",
    "            Social_media=(0, 1000, 10)\n",
    "            ):\n",
    "            \n",
    "                nano_influencer = 0\n",
    "                micro_influencer = 0\n",
    "                mega_influencer = 0 \n",
    "\n",
    "                if influencer == 'Mega': \n",
    "                        mega_influencer = 1\n",
    "                elif influencer == 'Micro': \n",
    "                        micro_influencer = 1\n",
    "                else:\n",
    "                        nano_influencer = 1\n",
    "\n",
    "                params= pd.DataFrame({\"tv\":[Tv], \"radio\":[Radio], \"social_media\":[Social_media], \n",
    "                \"influencer_Mega\":[mega_influencer] , \"influencer_Micro\":[micro_influencer], \"influencer_Nano\":[nano_influencer]} )\n",
    "                sales_predict = round(LR.predict(params)[0][0], 2)\n",
    "                message = \"${0:.2f}M\".format(sales_predict)\n",
    "                return display(HTML('<br> <span style=\"color: grey\" > With this campaign, you have the potential to reach a turnover of: </span> <strong>' + message + '</strong><br>'))\n"
   ]
  }
 ],
 "metadata": {
  "kernelspec": {
   "display_name": "base",
   "language": "python",
   "name": "python3"
  },
  "language_info": {
   "codemirror_mode": {
    "name": "ipython",
    "version": 3
   },
   "file_extension": ".py",
   "mimetype": "text/x-python",
   "name": "python",
   "nbconvert_exporter": "python",
   "pygments_lexer": "ipython3",
   "version": "3.9.7"
  },
  "orig_nbformat": 4,
  "vscode": {
   "interpreter": {
    "hash": "40d3a090f54c6569ab1632332b64b2c03c39dcf918b08424e98f38b5ae0af88f"
   }
  }
 },
 "nbformat": 4,
 "nbformat_minor": 2
}
